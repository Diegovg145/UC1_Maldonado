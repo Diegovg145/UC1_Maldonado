{
 "cells": [
  {
   "cell_type": "code",
   "execution_count": 1,
   "id": "6811ed0b",
   "metadata": {},
   "outputs": [
    {
     "name": "stdout",
     "output_type": "stream",
     "text": [
      "Ingresa el valor de n: 100\n",
      "La suma de los 100 primeros números es: 5050\n"
     ]
    }
   ],
   "source": [
    "n = int(input(\"Ingresa el valor de n: \"))  # pedimos al usuario el valor de n\n",
    "\n",
    "suma = 0  # inicializamos la variable suma en cero\n",
    "\n",
    "# recorremos los números desde 1 hasta n y los sumamos\n",
    "for i in range(1, n+1):\n",
    "    suma += i\n",
    "\n",
    "print(\"La suma de los\", n, \"primeros números es:\", suma)  # mostramos el resultado\n"
   ]
  },
  {
   "cell_type": "code",
   "execution_count": null,
   "id": "67849e30",
   "metadata": {},
   "outputs": [],
   "source": []
  }
 ],
 "metadata": {
  "kernelspec": {
   "display_name": "Python 3 (ipykernel)",
   "language": "python",
   "name": "python3"
  },
  "language_info": {
   "codemirror_mode": {
    "name": "ipython",
    "version": 3
   },
   "file_extension": ".py",
   "mimetype": "text/x-python",
   "name": "python",
   "nbconvert_exporter": "python",
   "pygments_lexer": "ipython3",
   "version": "3.9.12"
  }
 },
 "nbformat": 4,
 "nbformat_minor": 5
}
