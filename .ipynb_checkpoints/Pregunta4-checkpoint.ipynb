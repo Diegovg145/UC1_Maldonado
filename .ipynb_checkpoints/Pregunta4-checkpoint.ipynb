{
 "cells": [
  {
   "cell_type": "code",
   "execution_count": 1,
   "id": "51c161d7",
   "metadata": {},
   "outputs": [
    {
     "name": "stdout",
     "output_type": "stream",
     "text": [
      "Ingrese sus ganancias mensuales: 2000\n",
      "El donativo de Pablito será de s/. 160.0\n"
     ]
    }
   ],
   "source": [
    "# ingreso de los datos\n",
    "ganancias = float(input(\"Ingrese sus ganancias mensuales: \"))\n",
    "\n",
    "# cálculo del donativo según los rangos\n",
    "if ganancias >= 0 and ganancias <= 1000:\n",
    "    porcentaje_donativo = 5\n",
    "elif ganancias > 1000 and ganancias <= 1500:\n",
    "    porcentaje_donativo = 7\n",
    "elif ganancias > 1500 and ganancias <= 2000:\n",
    "    porcentaje_donativo = 8\n",
    "elif ganancias > 2000 and ganancias <= 5000:\n",
    "    porcentaje_donativo = 10\n",
    "else:\n",
    "    porcentaje_donativo = 15\n",
    "\n",
    "donativo = (ganancias * porcentaje_donativo) / 100\n",
    "\n",
    "# impresión del donativo\n",
    "print(\"El donativo de Pablito será de s/.\", donativo)\n"
   ]
  },
  {
   "cell_type": "code",
   "execution_count": 2,
   "id": "d50dcd4a",
   "metadata": {},
   "outputs": [
    {
     "name": "stdout",
     "output_type": "stream",
     "text": [
      "Ingrese sus ganancias mensuales: 5000\n",
      "El donativo de Pablito será de s/. 500.0\n"
     ]
    }
   ],
   "source": [
    "# ingreso de los datos\n",
    "ganancias = float(input(\"Ingrese sus ganancias mensuales: \"))\n",
    "\n",
    "# cálculo del donativo según los rangos\n",
    "if ganancias >= 0 and ganancias <= 1000:\n",
    "    porcentaje_donativo = 5\n",
    "elif ganancias > 1000 and ganancias <= 1500:\n",
    "    porcentaje_donativo = 7\n",
    "elif ganancias > 1500 and ganancias <= 2000:\n",
    "    porcentaje_donativo = 8\n",
    "elif ganancias > 2000 and ganancias <= 5000:\n",
    "    porcentaje_donativo = 10\n",
    "else:\n",
    "    porcentaje_donativo = 15\n",
    "\n",
    "donativo = (ganancias * porcentaje_donativo) / 100\n",
    "\n",
    "# impresión del donativo\n",
    "print(\"El donativo de Pablito será de s/.\", donativo)\n"
   ]
  },
  {
   "cell_type": "code",
   "execution_count": 3,
   "id": "2c320c12",
   "metadata": {},
   "outputs": [
    {
     "name": "stdout",
     "output_type": "stream",
     "text": [
      "Ingrese sus ganancias mensuales: 1000\n",
      "El donativo de Pablito será de s/. 50.0\n"
     ]
    }
   ],
   "source": [
    "# ingreso de los datos\n",
    "ganancias = float(input(\"Ingrese sus ganancias mensuales: \"))\n",
    "\n",
    "# cálculo del donativo según los rangos\n",
    "if ganancias >= 0 and ganancias <= 1000:\n",
    "    porcentaje_donativo = 5\n",
    "elif ganancias > 1000 and ganancias <= 1500:\n",
    "    porcentaje_donativo = 7\n",
    "elif ganancias > 1500 and ganancias <= 2000:\n",
    "    porcentaje_donativo = 8\n",
    "elif ganancias > 2000 and ganancias <= 5000:\n",
    "    porcentaje_donativo = 10\n",
    "else:\n",
    "    porcentaje_donativo = 15\n",
    "\n",
    "donativo = (ganancias * porcentaje_donativo) / 100\n",
    "\n",
    "# impresión del donativo\n",
    "print(\"El donativo de Pablito será de s/.\", donativo)\n"
   ]
  },
  {
   "cell_type": "code",
   "execution_count": null,
   "id": "c8f63dfa",
   "metadata": {},
   "outputs": [],
   "source": []
  }
 ],
 "metadata": {
  "kernelspec": {
   "display_name": "Python 3 (ipykernel)",
   "language": "python",
   "name": "python3"
  },
  "language_info": {
   "codemirror_mode": {
    "name": "ipython",
    "version": 3
   },
   "file_extension": ".py",
   "mimetype": "text/x-python",
   "name": "python",
   "nbconvert_exporter": "python",
   "pygments_lexer": "ipython3",
   "version": "3.9.12"
  }
 },
 "nbformat": 4,
 "nbformat_minor": 5
}
