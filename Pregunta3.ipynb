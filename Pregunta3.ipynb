{
 "cells": [
  {
   "cell_type": "code",
   "execution_count": 1,
   "id": "d0971869",
   "metadata": {},
   "outputs": [
    {
     "name": "stdout",
     "output_type": "stream",
     "text": [
      "Ingrese el número de horas de estacionamiento: 2\n",
      "El precio total a pagar es de: s/. 6\n"
     ]
    }
   ],
   "source": [
    "horas_estacionamiento = int(input(\"Ingrese el número de horas de estacionamiento: \"))\n",
    "precio_total = 0\n",
    "\n",
    "if horas_estacionamiento <= 4:\n",
    "    precio_total = 6\n",
    "else:\n",
    "    precio_total = 6 + (horas_estacionamiento - 4) * 2\n",
    "\n",
    "print(\"El precio total a pagar es de: s/.\", precio_total)\n"
   ]
  },
  {
   "cell_type": "code",
   "execution_count": 2,
   "id": "14705428",
   "metadata": {},
   "outputs": [
    {
     "name": "stdout",
     "output_type": "stream",
     "text": [
      "Ingrese el número de horas de estacionamiento: 8\n",
      "El precio total a pagar es de: s/. 14\n"
     ]
    }
   ],
   "source": [
    "horas_estacionamiento = int(input(\"Ingrese el número de horas de estacionamiento: \"))\n",
    "precio_total = 0\n",
    "\n",
    "if horas_estacionamiento <= 4:\n",
    "    precio_total = 6\n",
    "else:\n",
    "    precio_total = 6 + (horas_estacionamiento - 4) * 2\n",
    "\n",
    "print(\"El precio total a pagar es de: s/.\", precio_total)\n"
   ]
  },
  {
   "cell_type": "code",
   "execution_count": null,
   "id": "4a2c4f5c",
   "metadata": {},
   "outputs": [],
   "source": []
  }
 ],
 "metadata": {
  "kernelspec": {
   "display_name": "Python 3 (ipykernel)",
   "language": "python",
   "name": "python3"
  },
  "language_info": {
   "codemirror_mode": {
    "name": "ipython",
    "version": 3
   },
   "file_extension": ".py",
   "mimetype": "text/x-python",
   "name": "python",
   "nbconvert_exporter": "python",
   "pygments_lexer": "ipython3",
   "version": "3.9.12"
  }
 },
 "nbformat": 4,
 "nbformat_minor": 5
}
